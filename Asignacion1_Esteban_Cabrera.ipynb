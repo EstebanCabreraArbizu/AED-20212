{
  "nbformat": 4,
  "nbformat_minor": 0,
  "metadata": {
    "colab": {
      "name": "Asignacion1-Esteban Cabrera.ipynb",
      "provenance": [],
      "authorship_tag": "ABX9TyPzDa+ZsHGqeAkHC34NzMA8",
      "include_colab_link": true
    },
    "kernelspec": {
      "name": "python3",
      "display_name": "Python 3"
    },
    "language_info": {
      "name": "python"
    }
  },
  "cells": [
    {
      "cell_type": "markdown",
      "metadata": {
        "id": "view-in-github",
        "colab_type": "text"
      },
      "source": [
        "<a href=\"https://colab.research.google.com/github/EstebanCabreraArbizu/AED-20212/blob/main/Asignacion1_Esteban_Cabrera.ipynb\" target=\"_parent\"><img src=\"https://colab.research.google.com/assets/colab-badge.svg\" alt=\"Open In Colab\"/></a>"
      ]
    },
    {
      "cell_type": "markdown",
      "source": [
        "#Asignación 1: Convertir las funciones de un arreglo a templates"
      ],
      "metadata": {
        "id": "Z1TF1pr-bt4j"
      }
    },
    {
      "cell_type": "markdown",
      "source": [
        "##Sin templates"
      ],
      "metadata": {
        "id": "2EZTqO03kvGz"
      }
    },
    {
      "cell_type": "code",
      "source": [
        "%%writefile Ej2.cpp\n",
        "//implementacion de las bibliotecas, clases  y funciones\n",
        "#include \"Ej2.hpp\"\n",
        "\n",
        "void generar(short* a, size_t n){\n",
        "  for(size_t i=0;i<n;++i){\n",
        "      a[i]=rand()%101+100;//rango de 100 a 200    \n",
        "  }  \n",
        "}\n",
        "\n",
        "void listar(short* a, size_t n){\n",
        "  for(size_t i=0;i<n;++i){\n",
        "      cout<<i<<\"-> \"<<a[i]<<\"\\n\";\n",
        "  }  \n",
        "}\n",
        "\n",
        "void mayor(short* a, size_t n){\n",
        "  short _mayor=a[0], _pos=-1;\n",
        "  \n",
        "  for(size_t i=1;i<n;++i){\n",
        "    if(a[i]>_mayor){\n",
        "      _mayor=a[i];//actualizo el mayor\n",
        "      _pos=i;\n",
        "    }\n",
        "  }\n",
        "  cout<<\"El mayor valor es\"<<_mayor<<\" y se encuentra en la posicion\"<<_pos<<\"\\n\";\n",
        "}\n",
        "void ordenar(short* a, size_t n){\n",
        "  for(int i=0;i<n-1;++i){\n",
        "    for(int j=i+1;j<n;++j){\n",
        "      if(a[i]>a[j]){\n",
        "        short aux=a[i];\n",
        "        a[i]=a[j];\n",
        "        a[j]=aux;\n",
        "      }\n",
        "    }\n",
        "  }\n",
        "}\n",
        "void mayorPromedio(short* a, const size_t& n){// valor inmutable que toma una dirección de memoria\n",
        "  float prom=0.0f;    \n",
        "  //obteniendo el promedio\n",
        "  for(int i=0;i<n;++i)\n",
        "        prom+=a[i];\n",
        "  prom/=n;//prom=prom/n   \n",
        "  cout<<\"prom: \"<<prom<<\"\\n\";\n",
        "  //listar mayor al promedio\n",
        "  for(int i=0;i<n;++i)\n",
        "    if(a[i]>prom)cout<<i<<\"->\"<<a[i]<<\"\\n\";\n",
        "}\n",
        "\n",
        "\n"
      ],
      "metadata": {
        "colab": {
          "base_uri": "https://localhost:8080/"
        },
        "id": "iBojM8J0_9Mr",
        "outputId": "e822fb70-5349-4603-d012-b6fedf544528"
      },
      "execution_count": null,
      "outputs": [
        {
          "output_type": "stream",
          "name": "stdout",
          "text": [
            "Overwriting Ej2.cpp\n"
          ]
        }
      ]
    },
    {
      "cell_type": "code",
      "source": [
        "%%writefile Ej2.hpp\n",
        "//Definicion de bibliotecas, clases y funciones\n",
        "#include <iostream>\n",
        "#include <cstdlib>// srand, rand\n",
        "#include <ctime>//time\n",
        "\n",
        "using std::cout;\n",
        "using std::cin;\n",
        "//definición de la funcion\n",
        "void generar(short* a, size_t n);\n",
        "void listar(short*, size_t);\n",
        "void mayor(short*, size_t);\n",
        "void ordenar(short*, size_t);\n",
        "void mayorPromedio(short* a, size_t n);"
      ],
      "metadata": {
        "colab": {
          "base_uri": "https://localhost:8080/"
        },
        "id": "zPXY3wNQ_7E8",
        "outputId": "5f0644c9-e44d-458e-9f1f-ec71b580b734"
      },
      "execution_count": null,
      "outputs": [
        {
          "output_type": "stream",
          "name": "stdout",
          "text": [
            "Writing Ej2.hpp\n"
          ]
        }
      ]
    },
    {
      "cell_type": "code",
      "source": [
        "%%writefile ejemplo2.cpp\n",
        "#include \"Ej2.hpp\"\n",
        "int main() {\n",
        "short* arreglo=new short[100];  \n",
        "srand(time(NULL));//inicializacion de la semilla\n",
        "generar(arreglo,100);\n",
        "listar(arreglo, 100);\n",
        "//mayor(arreglo, 100);  \n",
        "ordenar(arreglo, 100);\n",
        "cout<<\"-------------\\n\";\n",
        "//listar(arreglo, 100);\n",
        "  mayorPromedio(arreglo, 100);\n",
        "}"
      ],
      "metadata": {
        "colab": {
          "base_uri": "https://localhost:8080/"
        },
        "id": "g-y4mjoV7vC3",
        "outputId": "03ea4a1f-d3b3-4161-f1e0-cbcdbdc35ef6"
      },
      "execution_count": null,
      "outputs": [
        {
          "output_type": "stream",
          "name": "stdout",
          "text": [
            "Overwriting ejemplo2.cpp\n"
          ]
        }
      ]
    },
    {
      "cell_type": "code",
      "source": [
        "!g++ -std=c++14 ejemplo2.cpp Ej2.cpp && ./a.out"
      ],
      "metadata": {
        "colab": {
          "base_uri": "https://localhost:8080/"
        },
        "id": "g2lUDgDcAKUq",
        "outputId": "5390e4c2-d972-414c-b23b-4c259cb0c6b7"
      },
      "execution_count": null,
      "outputs": [
        {
          "output_type": "stream",
          "name": "stdout",
          "text": [
            "0-> 141\n",
            "1-> 142\n",
            "2-> 132\n",
            "3-> 178\n",
            "4-> 188\n",
            "5-> 183\n",
            "6-> 122\n",
            "7-> 122\n",
            "8-> 163\n",
            "9-> 158\n",
            "10-> 128\n",
            "11-> 129\n",
            "12-> 170\n",
            "13-> 164\n",
            "14-> 142\n",
            "15-> 107\n",
            "16-> 168\n",
            "17-> 194\n",
            "18-> 144\n",
            "19-> 138\n",
            "20-> 161\n",
            "21-> 189\n",
            "22-> 129\n",
            "23-> 119\n",
            "24-> 138\n",
            "25-> 198\n",
            "26-> 191\n",
            "27-> 112\n",
            "28-> 108\n",
            "29-> 197\n",
            "30-> 160\n",
            "31-> 115\n",
            "32-> 104\n",
            "33-> 192\n",
            "34-> 159\n",
            "35-> 192\n",
            "36-> 140\n",
            "37-> 182\n",
            "38-> 114\n",
            "39-> 102\n",
            "40-> 139\n",
            "41-> 142\n",
            "42-> 198\n",
            "43-> 175\n",
            "44-> 173\n",
            "45-> 105\n",
            "46-> 182\n",
            "47-> 106\n",
            "48-> 200\n",
            "49-> 126\n",
            "50-> 145\n",
            "51-> 126\n",
            "52-> 181\n",
            "53-> 140\n",
            "54-> 145\n",
            "55-> 119\n",
            "56-> 137\n",
            "57-> 135\n",
            "58-> 198\n",
            "59-> 112\n",
            "60-> 198\n",
            "61-> 157\n",
            "62-> 194\n",
            "63-> 169\n",
            "64-> 114\n",
            "65-> 153\n",
            "66-> 160\n",
            "67-> 120\n",
            "68-> 100\n",
            "69-> 140\n",
            "70-> 122\n",
            "71-> 105\n",
            "72-> 149\n",
            "73-> 187\n",
            "74-> 181\n",
            "75-> 188\n",
            "76-> 192\n",
            "77-> 162\n",
            "78-> 194\n",
            "79-> 157\n",
            "80-> 154\n",
            "81-> 104\n",
            "82-> 183\n",
            "83-> 135\n",
            "84-> 145\n",
            "85-> 195\n",
            "86-> 120\n",
            "87-> 148\n",
            "88-> 196\n",
            "89-> 184\n",
            "90-> 160\n",
            "91-> 160\n",
            "92-> 141\n",
            "93-> 154\n",
            "94-> 128\n",
            "95-> 121\n",
            "96-> 173\n",
            "97-> 188\n",
            "98-> 142\n",
            "99-> 173\n",
            "-------------\n",
            "150.45\n",
            "50->153\n",
            "51->154\n",
            "52->154\n",
            "53->157\n",
            "54->157\n",
            "55->158\n",
            "56->159\n",
            "57->160\n",
            "58->160\n",
            "59->160\n",
            "60->160\n",
            "61->161\n",
            "62->162\n",
            "63->163\n",
            "64->164\n",
            "65->168\n",
            "66->169\n",
            "67->170\n",
            "68->173\n",
            "69->173\n",
            "70->173\n",
            "71->175\n",
            "72->178\n",
            "73->181\n",
            "74->181\n",
            "75->182\n",
            "76->182\n",
            "77->183\n",
            "78->183\n",
            "79->184\n",
            "80->187\n",
            "81->188\n",
            "82->188\n",
            "83->188\n",
            "84->189\n",
            "85->191\n",
            "86->192\n",
            "87->192\n",
            "88->192\n",
            "89->194\n",
            "90->194\n",
            "91->194\n",
            "92->195\n",
            "93->196\n",
            "94->197\n",
            "95->198\n",
            "96->198\n",
            "97->198\n",
            "98->198\n"
          ]
        }
      ]
    },
    {
      "cell_type": "markdown",
      "source": [
        "##Con templates"
      ],
      "metadata": {
        "id": "adhyd_R2ky1S"
      }
    },
    {
      "cell_type": "code",
      "source": [
        "%%writefile Ej3.hpp\n",
        "//Definicion de bibliotecas, clases y funciones\n",
        "#include <iostream>\n",
        "#include <cstdlib>// srand, rand\n",
        "#include <ctime>//time\n",
        "#include <string>\n",
        "using std::string;\n",
        "using std::cout;\n",
        "using std::cin;\n",
        "//definición de la funcion\n",
        "template<typename Generico>//definir la función como template\n",
        "class Arreglo{\n",
        "    Generico* a;\n",
        "    size_t n;\n",
        "    public:\n",
        "    Arreglo(){ a=new Generico[10];n=0;}\n",
        "    Arreglo(Generico* _a, size_t _n){a=_a;n=_n;}\n",
        "    void insertar(Generico g){\n",
        "        if(n<10)\n",
        "          a[n++]=g; //a[n]=g; n++;\n",
        "    }\n",
        "    void listar(){\n",
        "      for(size_t i=0;i<n;++i){\n",
        "          cout<<i<<\"-> \"<<a[i]<<\"\\n\";\n",
        "      }  \n",
        "    }\n",
        "    void mayor(){\n",
        "      Generico _mayor=a[0]; \n",
        "      size_t _pos=0;\n",
        "      \n",
        "      for(size_t i=1;i<n;++i){\n",
        "        if(a[i]>_mayor){\n",
        "          _mayor=a[i];//actualizo el mayor\n",
        "          _pos=i;\n",
        "        }\n",
        "      }\n",
        "      cout<<\"El mayor valor es \" <<_mayor<<\" y se encuentra en la posicion \"<<_pos<<\"\\n\";\n",
        "    }\n",
        "    void ordenar(){\n",
        "      for(size_t i=0;i<n-1;++i){\n",
        "        for(size_t j=i+1;j<n;++j){\n",
        "          if(a[i]>a[j]){\n",
        "            Generico aux=a[i];\n",
        "            a[i]=a[j];\n",
        "            a[j]=aux;\n",
        "          }\n",
        "        }\n",
        "      }\n",
        "    }\n",
        "    void mayorPromedio(){\n",
        "      Generico prom=a[0];    \n",
        "      //obteniendo el promedio\n",
        "      for(int i=1;i<n;++i)\n",
        "            prom+=a[i];\n",
        "      prom=prom/n;   \n",
        "      cout<<\"prom: \"<<prom<<\"\\n\";\n",
        "      //listar mayor al promedio\n",
        "      for(int i=0;i<n;++i)\n",
        "        if(a[i]>prom)cout<<i<<\"->\"<<a[i]<<\"\\n\";\n",
        "    }\n",
        "};"
      ],
      "metadata": {
        "colab": {
          "base_uri": "https://localhost:8080/"
        },
        "outputId": "9e2958da-fa26-4614-c205-29c0ae69588f",
        "id": "6e_BOWJRGQ39"
      },
      "execution_count": null,
      "outputs": [
        {
          "output_type": "stream",
          "name": "stdout",
          "text": [
            "Overwriting Ej3.hpp\n"
          ]
        }
      ]
    },
    {
      "cell_type": "code",
      "source": [
        "%%writefile ejemplo3.cpp\n",
        "#include <string>\n",
        "#include \"Ej3.hpp\"\n",
        "using namespace std;\n",
        "int main() {\n",
        "    Arreglo<int>*arrEnteros=new Arreglo<int>();\n",
        "    Arreglo<float>*arrDecimales=new Arreglo<float>();\n",
        "    Arreglo<string>* arrStrings=new Arreglo<string>();\n",
        "    string arr[10]={\"Jorge\",\"Diego\",\"Juan\",\"Alex\",\"Rodrigo\",\"Ruben\",\"Maria\",\"Juana\",\"Alex\",\"Joseph\"};\n",
        "    for(size_t i=0;i<10;++i){\n",
        "        arrEnteros->insertar(i);\n",
        "        arrDecimales->insertar(i*1.123);\n",
        "        arrStrings->insertar(arr[i]);\n",
        "    }\n",
        "    arrEnteros->listar();\n",
        "    arrEnteros->ordenar();\n",
        "    arrEnteros->mayor();\n",
        "    arrEnteros->mayorPromedio();\n",
        "    cout<<\"\\n\";\n",
        "    arrDecimales->listar();\n",
        "    arrDecimales->ordenar();\n",
        "    arrDecimales->mayor();\n",
        "    arrDecimales->mayorPromedio();\n",
        "    cout<<\"\\n\";\n",
        "    arrStrings->listar();\n",
        "    arrStrings->ordenar();\n",
        "    arrStrings->mayor();\n",
        "    \n",
        "    return 0;\n",
        "}"
      ],
      "metadata": {
        "colab": {
          "base_uri": "https://localhost:8080/"
        },
        "outputId": "745ef021-2950-4ff2-c35a-2cbc21a51a1b",
        "id": "QfxBUKORGala"
      },
      "execution_count": null,
      "outputs": [
        {
          "output_type": "stream",
          "name": "stdout",
          "text": [
            "Overwriting ejemplo3.cpp\n"
          ]
        }
      ]
    },
    {
      "cell_type": "code",
      "source": [
        "!g++ -std=c++14 ejemplo3.cpp && ./a.out"
      ],
      "metadata": {
        "colab": {
          "base_uri": "https://localhost:8080/"
        },
        "outputId": "6584ac7e-0cd9-4b0a-8459-908a396a2a67",
        "id": "I7DpY76JGW-d"
      },
      "execution_count": null,
      "outputs": [
        {
          "output_type": "stream",
          "name": "stdout",
          "text": [
            "0-> 0\n",
            "1-> 1\n",
            "2-> 2\n",
            "3-> 3\n",
            "4-> 4\n",
            "5-> 5\n",
            "6-> 6\n",
            "7-> 7\n",
            "8-> 8\n",
            "9-> 9\n",
            "El mayor valor es 9 y se encuentra en la posicion 9\n",
            "prom: 4\n",
            "5->5\n",
            "6->6\n",
            "7->7\n",
            "8->8\n",
            "9->9\n",
            "\n",
            "0-> 0\n",
            "1-> 1.123\n",
            "2-> 2.246\n",
            "3-> 3.369\n",
            "4-> 4.492\n",
            "5-> 5.615\n",
            "6-> 6.738\n",
            "7-> 7.861\n",
            "8-> 8.984\n",
            "9-> 10.107\n",
            "El mayor valor es 10.107 y se encuentra en la posicion 9\n",
            "prom: 5.0535\n",
            "5->5.615\n",
            "6->6.738\n",
            "7->7.861\n",
            "8->8.984\n",
            "9->10.107\n",
            "\n",
            "0-> Jorge\n",
            "1-> Diego\n",
            "2-> Juan\n",
            "3-> Alex\n",
            "4-> Rodrigo\n",
            "5-> Ruben\n",
            "6-> Maria\n",
            "7-> Juana\n",
            "8-> Alex\n",
            "9-> Joseph\n",
            "El mayor valor es Ruben y se encuentra en la posicion 9\n"
          ]
        }
      ]
    },
    {
      "cell_type": "code",
      "source": [
        ""
      ],
      "metadata": {
        "id": "gMXQ8IeKN6fD"
      },
      "execution_count": null,
      "outputs": []
    }
  ]
}